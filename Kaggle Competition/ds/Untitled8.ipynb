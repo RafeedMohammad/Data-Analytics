{
 "cells": [
  {
   "cell_type": "markdown",
   "metadata": {},
   "source": [
    "## Import Libraries "
   ]
  },
  {
   "cell_type": "code",
   "execution_count": 1,
   "metadata": {},
   "outputs": [],
   "source": [
    "import pandas as pd\n",
    "import numpy as np\n",
    "import seaborn as sns\n",
    "import matplotlib.pyplot as plt\n",
    "%matplotlib inline\n",
    "from sklearn.model_selection import train_test_split"
   ]
  },
  {
   "cell_type": "markdown",
   "metadata": {},
   "source": [
    "## Import Libraries for Classifier Algorithms"
   ]
  },
  {
   "cell_type": "code",
   "execution_count": 85,
   "metadata": {},
   "outputs": [],
   "source": [
    "from sklearn import svm  #Support Vector Machine\n",
    "from sklearn.svm import SVC  #SVC for SVM\n",
    "from sklearn.ensemble import AdaBoostClassifier  #Adaoost Classifier\n",
    "from sklearn.tree import DecisionTreeClassifier  #Decision Tree Classifier\n",
    "from sklearn.ensemble import RandomForestClassifier #Random Forest Classifier"
   ]
  },
  {
   "cell_type": "markdown",
   "metadata": {},
   "source": [
    "## Import Train and Test Dataset "
   ]
  },
  {
   "cell_type": "code",
   "execution_count": 53,
   "metadata": {},
   "outputs": [
    {
     "data": {
      "text/html": [
       "<div>\n",
       "<style scoped>\n",
       "    .dataframe tbody tr th:only-of-type {\n",
       "        vertical-align: middle;\n",
       "    }\n",
       "\n",
       "    .dataframe tbody tr th {\n",
       "        vertical-align: top;\n",
       "    }\n",
       "\n",
       "    .dataframe thead th {\n",
       "        text-align: right;\n",
       "    }\n",
       "</style>\n",
       "<table border=\"1\" class=\"dataframe\">\n",
       "  <thead>\n",
       "    <tr style=\"text-align: right;\">\n",
       "      <th></th>\n",
       "      <th>visits</th>\n",
       "      <th>total_sales</th>\n",
       "      <th>credit_card</th>\n",
       "      <th>sales_product_category_1</th>\n",
       "      <th>sales_product_category_2</th>\n",
       "      <th>sales_product_category_3</th>\n",
       "      <th>sales_product_category_4</th>\n",
       "      <th>sales_product_category_5</th>\n",
       "      <th>sales_product_category_6</th>\n",
       "      <th>sales_product_category_7</th>\n",
       "      <th>...</th>\n",
       "      <th>stores_visited</th>\n",
       "      <th>phone_on_file</th>\n",
       "      <th>online_shopper</th>\n",
       "      <th>attempts</th>\n",
       "      <th>conversions</th>\n",
       "      <th>product_uniformity</th>\n",
       "      <th>days_between_visits</th>\n",
       "      <th>customer_type</th>\n",
       "      <th>returns</th>\n",
       "      <th>conversion</th>\n",
       "    </tr>\n",
       "  </thead>\n",
       "  <tbody>\n",
       "    <tr>\n",
       "      <th>0</th>\n",
       "      <td>2</td>\n",
       "      <td>160.48</td>\n",
       "      <td>0</td>\n",
       "      <td>0.00</td>\n",
       "      <td>0.0</td>\n",
       "      <td>0.00</td>\n",
       "      <td>0.23</td>\n",
       "      <td>0.23</td>\n",
       "      <td>0.27</td>\n",
       "      <td>0.15</td>\n",
       "      <td>...</td>\n",
       "      <td>3</td>\n",
       "      <td>Y</td>\n",
       "      <td>0</td>\n",
       "      <td>4</td>\n",
       "      <td>0</td>\n",
       "      <td>23.30</td>\n",
       "      <td>31.33</td>\n",
       "      <td>37</td>\n",
       "      <td>0.13</td>\n",
       "      <td>0</td>\n",
       "    </tr>\n",
       "    <tr>\n",
       "      <th>1</th>\n",
       "      <td>19</td>\n",
       "      <td>1776.38</td>\n",
       "      <td>1</td>\n",
       "      <td>0.23</td>\n",
       "      <td>0.0</td>\n",
       "      <td>0.00</td>\n",
       "      <td>0.11</td>\n",
       "      <td>0.26</td>\n",
       "      <td>0.14</td>\n",
       "      <td>0.00</td>\n",
       "      <td>...</td>\n",
       "      <td>3</td>\n",
       "      <td>Y</td>\n",
       "      <td>1</td>\n",
       "      <td>5</td>\n",
       "      <td>5</td>\n",
       "      <td>20.19</td>\n",
       "      <td>13.27</td>\n",
       "      <td>12</td>\n",
       "      <td>0.04</td>\n",
       "      <td>1</td>\n",
       "    </tr>\n",
       "    <tr>\n",
       "      <th>2</th>\n",
       "      <td>3</td>\n",
       "      <td>156.97</td>\n",
       "      <td>1</td>\n",
       "      <td>0.17</td>\n",
       "      <td>0.0</td>\n",
       "      <td>0.00</td>\n",
       "      <td>0.00</td>\n",
       "      <td>0.00</td>\n",
       "      <td>0.75</td>\n",
       "      <td>0.00</td>\n",
       "      <td>...</td>\n",
       "      <td>1</td>\n",
       "      <td>Y</td>\n",
       "      <td>0</td>\n",
       "      <td>9</td>\n",
       "      <td>0</td>\n",
       "      <td>116.68</td>\n",
       "      <td>31.78</td>\n",
       "      <td>28</td>\n",
       "      <td>0.00</td>\n",
       "      <td>1</td>\n",
       "    </tr>\n",
       "    <tr>\n",
       "      <th>3</th>\n",
       "      <td>6</td>\n",
       "      <td>1419.36</td>\n",
       "      <td>1</td>\n",
       "      <td>0.39</td>\n",
       "      <td>0.0</td>\n",
       "      <td>0.03</td>\n",
       "      <td>0.04</td>\n",
       "      <td>0.15</td>\n",
       "      <td>0.12</td>\n",
       "      <td>0.07</td>\n",
       "      <td>...</td>\n",
       "      <td>5</td>\n",
       "      <td>Y</td>\n",
       "      <td>0</td>\n",
       "      <td>8</td>\n",
       "      <td>5</td>\n",
       "      <td>22.42</td>\n",
       "      <td>20.38</td>\n",
       "      <td>5</td>\n",
       "      <td>0.00</td>\n",
       "      <td>1</td>\n",
       "    </tr>\n",
       "    <tr>\n",
       "      <th>4</th>\n",
       "      <td>8</td>\n",
       "      <td>470.35</td>\n",
       "      <td>1</td>\n",
       "      <td>0.32</td>\n",
       "      <td>0.0</td>\n",
       "      <td>0.00</td>\n",
       "      <td>0.16</td>\n",
       "      <td>0.08</td>\n",
       "      <td>0.15</td>\n",
       "      <td>0.00</td>\n",
       "      <td>...</td>\n",
       "      <td>2</td>\n",
       "      <td>Y</td>\n",
       "      <td>0</td>\n",
       "      <td>10</td>\n",
       "      <td>0</td>\n",
       "      <td>17.16</td>\n",
       "      <td>27.33</td>\n",
       "      <td>15</td>\n",
       "      <td>0.18</td>\n",
       "      <td>0</td>\n",
       "    </tr>\n",
       "  </tbody>\n",
       "</table>\n",
       "<p>5 rows × 44 columns</p>\n",
       "</div>"
      ],
      "text/plain": [
       "   visits  total_sales  credit_card  sales_product_category_1  \\\n",
       "0       2       160.48            0                      0.00   \n",
       "1      19      1776.38            1                      0.23   \n",
       "2       3       156.97            1                      0.17   \n",
       "3       6      1419.36            1                      0.39   \n",
       "4       8       470.35            1                      0.32   \n",
       "\n",
       "   sales_product_category_2  sales_product_category_3  \\\n",
       "0                       0.0                      0.00   \n",
       "1                       0.0                      0.00   \n",
       "2                       0.0                      0.00   \n",
       "3                       0.0                      0.03   \n",
       "4                       0.0                      0.00   \n",
       "\n",
       "   sales_product_category_4  sales_product_category_5  \\\n",
       "0                      0.23                      0.23   \n",
       "1                      0.11                      0.26   \n",
       "2                      0.00                      0.00   \n",
       "3                      0.04                      0.15   \n",
       "4                      0.16                      0.08   \n",
       "\n",
       "   sales_product_category_6  sales_product_category_7  ...  stores_visited  \\\n",
       "0                      0.27                      0.15  ...               3   \n",
       "1                      0.14                      0.00  ...               3   \n",
       "2                      0.75                      0.00  ...               1   \n",
       "3                      0.12                      0.07  ...               5   \n",
       "4                      0.15                      0.00  ...               2   \n",
       "\n",
       "   phone_on_file  online_shopper  attempts  conversions  product_uniformity  \\\n",
       "0              Y               0         4            0               23.30   \n",
       "1              Y               1         5            5               20.19   \n",
       "2              Y               0         9            0              116.68   \n",
       "3              Y               0         8            5               22.42   \n",
       "4              Y               0        10            0               17.16   \n",
       "\n",
       "   days_between_visits  customer_type  returns  conversion  \n",
       "0                31.33             37     0.13           0  \n",
       "1                13.27             12     0.04           1  \n",
       "2                31.78             28     0.00           1  \n",
       "3                20.38              5     0.00           1  \n",
       "4                27.33             15     0.18           0  \n",
       "\n",
       "[5 rows x 44 columns]"
      ]
     },
     "execution_count": 53,
     "metadata": {},
     "output_type": "execute_result"
    }
   ],
   "source": [
    "df = pd.read_csv(\"C:/Users/88013/Documents/train.csv\")  #Train Dataset\n",
    "df.head()"
   ]
  },
  {
   "cell_type": "code",
   "execution_count": 54,
   "metadata": {},
   "outputs": [
    {
     "data": {
      "text/html": [
       "<div>\n",
       "<style scoped>\n",
       "    .dataframe tbody tr th:only-of-type {\n",
       "        vertical-align: middle;\n",
       "    }\n",
       "\n",
       "    .dataframe tbody tr th {\n",
       "        vertical-align: top;\n",
       "    }\n",
       "\n",
       "    .dataframe thead th {\n",
       "        text-align: right;\n",
       "    }\n",
       "</style>\n",
       "<table border=\"1\" class=\"dataframe\">\n",
       "  <thead>\n",
       "    <tr style=\"text-align: right;\">\n",
       "      <th></th>\n",
       "      <th>visits</th>\n",
       "      <th>total_sales</th>\n",
       "      <th>credit_card</th>\n",
       "      <th>sales_product_category_1</th>\n",
       "      <th>sales_product_category_2</th>\n",
       "      <th>sales_product_category_3</th>\n",
       "      <th>sales_product_category_4</th>\n",
       "      <th>sales_product_category_5</th>\n",
       "      <th>sales_product_category_6</th>\n",
       "      <th>sales_product_category_7</th>\n",
       "      <th>...</th>\n",
       "      <th>individual_items</th>\n",
       "      <th>stores_visited</th>\n",
       "      <th>phone_on_file</th>\n",
       "      <th>online_shopper</th>\n",
       "      <th>attempts</th>\n",
       "      <th>conversions</th>\n",
       "      <th>product_uniformity</th>\n",
       "      <th>days_between_visits</th>\n",
       "      <th>customer_type</th>\n",
       "      <th>returns</th>\n",
       "    </tr>\n",
       "    <tr>\n",
       "      <th>Id</th>\n",
       "      <th></th>\n",
       "      <th></th>\n",
       "      <th></th>\n",
       "      <th></th>\n",
       "      <th></th>\n",
       "      <th></th>\n",
       "      <th></th>\n",
       "      <th></th>\n",
       "      <th></th>\n",
       "      <th></th>\n",
       "      <th></th>\n",
       "      <th></th>\n",
       "      <th></th>\n",
       "      <th></th>\n",
       "      <th></th>\n",
       "      <th></th>\n",
       "      <th></th>\n",
       "      <th></th>\n",
       "      <th></th>\n",
       "      <th></th>\n",
       "      <th></th>\n",
       "    </tr>\n",
       "  </thead>\n",
       "  <tbody>\n",
       "    <tr>\n",
       "      <th>0</th>\n",
       "      <td>1</td>\n",
       "      <td>213.74</td>\n",
       "      <td>1</td>\n",
       "      <td>0.16</td>\n",
       "      <td>0.00</td>\n",
       "      <td>0.00</td>\n",
       "      <td>0.17</td>\n",
       "      <td>0.00</td>\n",
       "      <td>0.41</td>\n",
       "      <td>0.00</td>\n",
       "      <td>...</td>\n",
       "      <td>5</td>\n",
       "      <td>1</td>\n",
       "      <td>Y</td>\n",
       "      <td>0</td>\n",
       "      <td>4</td>\n",
       "      <td>0</td>\n",
       "      <td>33.25</td>\n",
       "      <td>70.44</td>\n",
       "      <td>8</td>\n",
       "      <td>0.00</td>\n",
       "    </tr>\n",
       "    <tr>\n",
       "      <th>1</th>\n",
       "      <td>27</td>\n",
       "      <td>1190.16</td>\n",
       "      <td>1</td>\n",
       "      <td>0.10</td>\n",
       "      <td>0.03</td>\n",
       "      <td>0.07</td>\n",
       "      <td>0.00</td>\n",
       "      <td>0.12</td>\n",
       "      <td>0.05</td>\n",
       "      <td>0.05</td>\n",
       "      <td>...</td>\n",
       "      <td>114</td>\n",
       "      <td>5</td>\n",
       "      <td>Y</td>\n",
       "      <td>0</td>\n",
       "      <td>9</td>\n",
       "      <td>7</td>\n",
       "      <td>4.37</td>\n",
       "      <td>5.71</td>\n",
       "      <td>45</td>\n",
       "      <td>0.75</td>\n",
       "    </tr>\n",
       "    <tr>\n",
       "      <th>2</th>\n",
       "      <td>2</td>\n",
       "      <td>74.37</td>\n",
       "      <td>0</td>\n",
       "      <td>0.00</td>\n",
       "      <td>0.00</td>\n",
       "      <td>0.00</td>\n",
       "      <td>0.44</td>\n",
       "      <td>0.00</td>\n",
       "      <td>0.00</td>\n",
       "      <td>0.00</td>\n",
       "      <td>...</td>\n",
       "      <td>4</td>\n",
       "      <td>1</td>\n",
       "      <td>Y</td>\n",
       "      <td>0</td>\n",
       "      <td>0</td>\n",
       "      <td>0</td>\n",
       "      <td>35.41</td>\n",
       "      <td>34.50</td>\n",
       "      <td>42</td>\n",
       "      <td>0.00</td>\n",
       "    </tr>\n",
       "    <tr>\n",
       "      <th>3</th>\n",
       "      <td>1</td>\n",
       "      <td>386.98</td>\n",
       "      <td>1</td>\n",
       "      <td>0.51</td>\n",
       "      <td>0.00</td>\n",
       "      <td>0.05</td>\n",
       "      <td>0.00</td>\n",
       "      <td>0.17</td>\n",
       "      <td>0.00</td>\n",
       "      <td>0.12</td>\n",
       "      <td>...</td>\n",
       "      <td>10</td>\n",
       "      <td>1</td>\n",
       "      <td>Y</td>\n",
       "      <td>0</td>\n",
       "      <td>9</td>\n",
       "      <td>1</td>\n",
       "      <td>33.36</td>\n",
       "      <td>127.25</td>\n",
       "      <td>50</td>\n",
       "      <td>0.00</td>\n",
       "    </tr>\n",
       "    <tr>\n",
       "      <th>4</th>\n",
       "      <td>1</td>\n",
       "      <td>102.00</td>\n",
       "      <td>0</td>\n",
       "      <td>0.43</td>\n",
       "      <td>0.00</td>\n",
       "      <td>0.00</td>\n",
       "      <td>0.00</td>\n",
       "      <td>0.00</td>\n",
       "      <td>0.00</td>\n",
       "      <td>0.00</td>\n",
       "      <td>...</td>\n",
       "      <td>2</td>\n",
       "      <td>1</td>\n",
       "      <td>N</td>\n",
       "      <td>0</td>\n",
       "      <td>5</td>\n",
       "      <td>0</td>\n",
       "      <td>50.94</td>\n",
       "      <td>340.00</td>\n",
       "      <td>50</td>\n",
       "      <td>0.00</td>\n",
       "    </tr>\n",
       "  </tbody>\n",
       "</table>\n",
       "<p>5 rows × 43 columns</p>\n",
       "</div>"
      ],
      "text/plain": [
       "    visits  total_sales  credit_card  sales_product_category_1  \\\n",
       "Id                                                               \n",
       "0        1       213.74            1                      0.16   \n",
       "1       27      1190.16            1                      0.10   \n",
       "2        2        74.37            0                      0.00   \n",
       "3        1       386.98            1                      0.51   \n",
       "4        1       102.00            0                      0.43   \n",
       "\n",
       "    sales_product_category_2  sales_product_category_3  \\\n",
       "Id                                                       \n",
       "0                       0.00                      0.00   \n",
       "1                       0.03                      0.07   \n",
       "2                       0.00                      0.00   \n",
       "3                       0.00                      0.05   \n",
       "4                       0.00                      0.00   \n",
       "\n",
       "    sales_product_category_4  sales_product_category_5  \\\n",
       "Id                                                       \n",
       "0                       0.17                      0.00   \n",
       "1                       0.00                      0.12   \n",
       "2                       0.44                      0.00   \n",
       "3                       0.00                      0.17   \n",
       "4                       0.00                      0.00   \n",
       "\n",
       "    sales_product_category_6  sales_product_category_7  ...  individual_items  \\\n",
       "Id                                                      ...                     \n",
       "0                       0.41                      0.00  ...                 5   \n",
       "1                       0.05                      0.05  ...               114   \n",
       "2                       0.00                      0.00  ...                 4   \n",
       "3                       0.00                      0.12  ...                10   \n",
       "4                       0.00                      0.00  ...                 2   \n",
       "\n",
       "    stores_visited  phone_on_file  online_shopper  attempts  conversions  \\\n",
       "Id                                                                         \n",
       "0                1              Y               0         4            0   \n",
       "1                5              Y               0         9            7   \n",
       "2                1              Y               0         0            0   \n",
       "3                1              Y               0         9            1   \n",
       "4                1              N               0         5            0   \n",
       "\n",
       "    product_uniformity  days_between_visits  customer_type  returns  \n",
       "Id                                                                   \n",
       "0                33.25                70.44              8     0.00  \n",
       "1                 4.37                 5.71             45     0.75  \n",
       "2                35.41                34.50             42     0.00  \n",
       "3                33.36               127.25             50     0.00  \n",
       "4                50.94               340.00             50     0.00  \n",
       "\n",
       "[5 rows x 43 columns]"
      ]
     },
     "execution_count": 54,
     "metadata": {},
     "output_type": "execute_result"
    }
   ],
   "source": [
    "test = pd.read_csv(\"C:/Users/88013/Documents/test.csv\", index_col=0) #Test Dataset\n",
    "test.head()"
   ]
  },
  {
   "cell_type": "markdown",
   "metadata": {},
   "source": [
    "## Exploratory Data Analysis"
   ]
  },
  {
   "cell_type": "code",
   "execution_count": 55,
   "metadata": {},
   "outputs": [
    {
     "name": "stdout",
     "output_type": "stream",
     "text": [
      "The shape of our features is: (4122, 44)\n"
     ]
    }
   ],
   "source": [
    "print('The shape of our features is:', df.shape)"
   ]
  },
  {
   "cell_type": "code",
   "execution_count": 30,
   "metadata": {},
   "outputs": [
    {
     "data": {
      "text/html": [
       "<div>\n",
       "<style scoped>\n",
       "    .dataframe tbody tr th:only-of-type {\n",
       "        vertical-align: middle;\n",
       "    }\n",
       "\n",
       "    .dataframe tbody tr th {\n",
       "        vertical-align: top;\n",
       "    }\n",
       "\n",
       "    .dataframe thead th {\n",
       "        text-align: right;\n",
       "    }\n",
       "</style>\n",
       "<table border=\"1\" class=\"dataframe\">\n",
       "  <thead>\n",
       "    <tr style=\"text-align: right;\">\n",
       "      <th></th>\n",
       "      <th>visits</th>\n",
       "      <th>total_sales</th>\n",
       "      <th>credit_card</th>\n",
       "      <th>sales_product_category_1</th>\n",
       "      <th>sales_product_category_2</th>\n",
       "      <th>sales_product_category_3</th>\n",
       "      <th>sales_product_category_4</th>\n",
       "      <th>sales_product_category_5</th>\n",
       "      <th>sales_product_category_6</th>\n",
       "      <th>sales_product_category_7</th>\n",
       "      <th>...</th>\n",
       "      <th>individual_items</th>\n",
       "      <th>stores_visited</th>\n",
       "      <th>online_shopper</th>\n",
       "      <th>attempts</th>\n",
       "      <th>conversions</th>\n",
       "      <th>product_uniformity</th>\n",
       "      <th>days_between_visits</th>\n",
       "      <th>customer_type</th>\n",
       "      <th>returns</th>\n",
       "      <th>conversion</th>\n",
       "    </tr>\n",
       "  </thead>\n",
       "  <tbody>\n",
       "    <tr>\n",
       "      <th>count</th>\n",
       "      <td>4122.000000</td>\n",
       "      <td>4122.000000</td>\n",
       "      <td>4122.000000</td>\n",
       "      <td>4122.000000</td>\n",
       "      <td>4122.000000</td>\n",
       "      <td>4122.000000</td>\n",
       "      <td>4122.000000</td>\n",
       "      <td>4122.000000</td>\n",
       "      <td>4122.000000</td>\n",
       "      <td>4122.000000</td>\n",
       "      <td>...</td>\n",
       "      <td>4122.000000</td>\n",
       "      <td>4122.000000</td>\n",
       "      <td>4122.000000</td>\n",
       "      <td>4122.000000</td>\n",
       "      <td>4122.000000</td>\n",
       "      <td>4122.000000</td>\n",
       "      <td>4122.000000</td>\n",
       "      <td>4122.000000</td>\n",
       "      <td>4122.000000</td>\n",
       "      <td>4122.000000</td>\n",
       "    </tr>\n",
       "    <tr>\n",
       "      <th>mean</th>\n",
       "      <td>6.956332</td>\n",
       "      <td>615.731121</td>\n",
       "      <td>0.473799</td>\n",
       "      <td>0.212737</td>\n",
       "      <td>0.027491</td>\n",
       "      <td>0.039395</td>\n",
       "      <td>0.090651</td>\n",
       "      <td>0.129308</td>\n",
       "      <td>0.083170</td>\n",
       "      <td>0.069720</td>\n",
       "      <td>...</td>\n",
       "      <td>23.489811</td>\n",
       "      <td>2.701601</td>\n",
       "      <td>0.064047</td>\n",
       "      <td>5.243571</td>\n",
       "      <td>1.662300</td>\n",
       "      <td>33.186203</td>\n",
       "      <td>63.582572</td>\n",
       "      <td>15.102863</td>\n",
       "      <td>0.173329</td>\n",
       "      <td>0.438137</td>\n",
       "    </tr>\n",
       "    <tr>\n",
       "      <th>std</th>\n",
       "      <td>8.397925</td>\n",
       "      <td>838.773468</td>\n",
       "      <td>0.499374</td>\n",
       "      <td>0.214675</td>\n",
       "      <td>0.066313</td>\n",
       "      <td>0.098128</td>\n",
       "      <td>0.125246</td>\n",
       "      <td>0.162214</td>\n",
       "      <td>0.128239</td>\n",
       "      <td>0.124339</td>\n",
       "      <td>...</td>\n",
       "      <td>32.030137</td>\n",
       "      <td>1.873516</td>\n",
       "      <td>0.244866</td>\n",
       "      <td>3.588296</td>\n",
       "      <td>2.181073</td>\n",
       "      <td>26.076178</td>\n",
       "      <td>72.969527</td>\n",
       "      <td>12.018331</td>\n",
       "      <td>0.556889</td>\n",
       "      <td>0.496218</td>\n",
       "    </tr>\n",
       "    <tr>\n",
       "      <th>min</th>\n",
       "      <td>1.000000</td>\n",
       "      <td>4.180000</td>\n",
       "      <td>0.000000</td>\n",
       "      <td>0.000000</td>\n",
       "      <td>0.000000</td>\n",
       "      <td>0.000000</td>\n",
       "      <td>0.000000</td>\n",
       "      <td>0.000000</td>\n",
       "      <td>0.000000</td>\n",
       "      <td>0.000000</td>\n",
       "      <td>...</td>\n",
       "      <td>1.000000</td>\n",
       "      <td>1.000000</td>\n",
       "      <td>0.000000</td>\n",
       "      <td>0.000000</td>\n",
       "      <td>0.000000</td>\n",
       "      <td>0.750000</td>\n",
       "      <td>0.660000</td>\n",
       "      <td>0.000000</td>\n",
       "      <td>0.000000</td>\n",
       "      <td>0.000000</td>\n",
       "    </tr>\n",
       "    <tr>\n",
       "      <th>25%</th>\n",
       "      <td>2.000000</td>\n",
       "      <td>163.180000</td>\n",
       "      <td>0.000000</td>\n",
       "      <td>0.050000</td>\n",
       "      <td>0.000000</td>\n",
       "      <td>0.000000</td>\n",
       "      <td>0.000000</td>\n",
       "      <td>0.000000</td>\n",
       "      <td>0.000000</td>\n",
       "      <td>0.000000</td>\n",
       "      <td>...</td>\n",
       "      <td>6.000000</td>\n",
       "      <td>1.000000</td>\n",
       "      <td>0.000000</td>\n",
       "      <td>2.000000</td>\n",
       "      <td>0.000000</td>\n",
       "      <td>15.825000</td>\n",
       "      <td>17.472500</td>\n",
       "      <td>5.000000</td>\n",
       "      <td>0.000000</td>\n",
       "      <td>0.000000</td>\n",
       "    </tr>\n",
       "    <tr>\n",
       "      <th>50%</th>\n",
       "      <td>4.000000</td>\n",
       "      <td>349.960000</td>\n",
       "      <td>0.000000</td>\n",
       "      <td>0.170000</td>\n",
       "      <td>0.000000</td>\n",
       "      <td>0.000000</td>\n",
       "      <td>0.060000</td>\n",
       "      <td>0.070000</td>\n",
       "      <td>0.020000</td>\n",
       "      <td>0.000000</td>\n",
       "      <td>...</td>\n",
       "      <td>13.000000</td>\n",
       "      <td>2.000000</td>\n",
       "      <td>0.000000</td>\n",
       "      <td>6.000000</td>\n",
       "      <td>1.000000</td>\n",
       "      <td>24.920000</td>\n",
       "      <td>35.660000</td>\n",
       "      <td>11.000000</td>\n",
       "      <td>0.000000</td>\n",
       "      <td>0.000000</td>\n",
       "    </tr>\n",
       "    <tr>\n",
       "      <th>75%</th>\n",
       "      <td>9.000000</td>\n",
       "      <td>738.510000</td>\n",
       "      <td>1.000000</td>\n",
       "      <td>0.300000</td>\n",
       "      <td>0.030000</td>\n",
       "      <td>0.030000</td>\n",
       "      <td>0.130000</td>\n",
       "      <td>0.220000</td>\n",
       "      <td>0.130000</td>\n",
       "      <td>0.090000</td>\n",
       "      <td>...</td>\n",
       "      <td>29.000000</td>\n",
       "      <td>3.000000</td>\n",
       "      <td>0.000000</td>\n",
       "      <td>9.000000</td>\n",
       "      <td>3.000000</td>\n",
       "      <td>41.802500</td>\n",
       "      <td>77.180000</td>\n",
       "      <td>22.000000</td>\n",
       "      <td>0.150000</td>\n",
       "      <td>1.000000</td>\n",
       "    </tr>\n",
       "    <tr>\n",
       "      <th>max</th>\n",
       "      <td>81.000000</td>\n",
       "      <td>22511.490000</td>\n",
       "      <td>1.000000</td>\n",
       "      <td>1.000000</td>\n",
       "      <td>1.000000</td>\n",
       "      <td>1.000000</td>\n",
       "      <td>1.000000</td>\n",
       "      <td>1.000000</td>\n",
       "      <td>1.000000</td>\n",
       "      <td>1.000000</td>\n",
       "      <td>...</td>\n",
       "      <td>689.000000</td>\n",
       "      <td>16.000000</td>\n",
       "      <td>1.000000</td>\n",
       "      <td>11.000000</td>\n",
       "      <td>11.000000</td>\n",
       "      <td>200.000000</td>\n",
       "      <td>363.000000</td>\n",
       "      <td>50.000000</td>\n",
       "      <td>14.510000</td>\n",
       "      <td>1.000000</td>\n",
       "    </tr>\n",
       "  </tbody>\n",
       "</table>\n",
       "<p>8 rows × 43 columns</p>\n",
       "</div>"
      ],
      "text/plain": [
       "            visits   total_sales  credit_card  sales_product_category_1  \\\n",
       "count  4122.000000   4122.000000  4122.000000               4122.000000   \n",
       "mean      6.956332    615.731121     0.473799                  0.212737   \n",
       "std       8.397925    838.773468     0.499374                  0.214675   \n",
       "min       1.000000      4.180000     0.000000                  0.000000   \n",
       "25%       2.000000    163.180000     0.000000                  0.050000   \n",
       "50%       4.000000    349.960000     0.000000                  0.170000   \n",
       "75%       9.000000    738.510000     1.000000                  0.300000   \n",
       "max      81.000000  22511.490000     1.000000                  1.000000   \n",
       "\n",
       "       sales_product_category_2  sales_product_category_3  \\\n",
       "count               4122.000000               4122.000000   \n",
       "mean                   0.027491                  0.039395   \n",
       "std                    0.066313                  0.098128   \n",
       "min                    0.000000                  0.000000   \n",
       "25%                    0.000000                  0.000000   \n",
       "50%                    0.000000                  0.000000   \n",
       "75%                    0.030000                  0.030000   \n",
       "max                    1.000000                  1.000000   \n",
       "\n",
       "       sales_product_category_4  sales_product_category_5  \\\n",
       "count               4122.000000               4122.000000   \n",
       "mean                   0.090651                  0.129308   \n",
       "std                    0.125246                  0.162214   \n",
       "min                    0.000000                  0.000000   \n",
       "25%                    0.000000                  0.000000   \n",
       "50%                    0.060000                  0.070000   \n",
       "75%                    0.130000                  0.220000   \n",
       "max                    1.000000                  1.000000   \n",
       "\n",
       "       sales_product_category_6  sales_product_category_7  ...  \\\n",
       "count               4122.000000               4122.000000  ...   \n",
       "mean                   0.083170                  0.069720  ...   \n",
       "std                    0.128239                  0.124339  ...   \n",
       "min                    0.000000                  0.000000  ...   \n",
       "25%                    0.000000                  0.000000  ...   \n",
       "50%                    0.020000                  0.000000  ...   \n",
       "75%                    0.130000                  0.090000  ...   \n",
       "max                    1.000000                  1.000000  ...   \n",
       "\n",
       "       individual_items  stores_visited  online_shopper     attempts  \\\n",
       "count       4122.000000     4122.000000     4122.000000  4122.000000   \n",
       "mean          23.489811        2.701601        0.064047     5.243571   \n",
       "std           32.030137        1.873516        0.244866     3.588296   \n",
       "min            1.000000        1.000000        0.000000     0.000000   \n",
       "25%            6.000000        1.000000        0.000000     2.000000   \n",
       "50%           13.000000        2.000000        0.000000     6.000000   \n",
       "75%           29.000000        3.000000        0.000000     9.000000   \n",
       "max          689.000000       16.000000        1.000000    11.000000   \n",
       "\n",
       "       conversions  product_uniformity  days_between_visits  customer_type  \\\n",
       "count  4122.000000         4122.000000          4122.000000    4122.000000   \n",
       "mean      1.662300           33.186203            63.582572      15.102863   \n",
       "std       2.181073           26.076178            72.969527      12.018331   \n",
       "min       0.000000            0.750000             0.660000       0.000000   \n",
       "25%       0.000000           15.825000            17.472500       5.000000   \n",
       "50%       1.000000           24.920000            35.660000      11.000000   \n",
       "75%       3.000000           41.802500            77.180000      22.000000   \n",
       "max      11.000000          200.000000           363.000000      50.000000   \n",
       "\n",
       "           returns   conversion  \n",
       "count  4122.000000  4122.000000  \n",
       "mean      0.173329     0.438137  \n",
       "std       0.556889     0.496218  \n",
       "min       0.000000     0.000000  \n",
       "25%       0.000000     0.000000  \n",
       "50%       0.000000     0.000000  \n",
       "75%       0.150000     1.000000  \n",
       "max      14.510000     1.000000  \n",
       "\n",
       "[8 rows x 43 columns]"
      ]
     },
     "execution_count": 30,
     "metadata": {},
     "output_type": "execute_result"
    }
   ],
   "source": [
    "df.describe()"
   ]
  },
  {
   "cell_type": "code",
   "execution_count": 31,
   "metadata": {},
   "outputs": [
    {
     "data": {
      "text/plain": [
       "visits                       0\n",
       "total_sales                  0\n",
       "credit_card                  0\n",
       "sales_product_category_1     0\n",
       "sales_product_category_2     0\n",
       "sales_product_category_3     0\n",
       "sales_product_category_4     0\n",
       "sales_product_category_5     0\n",
       "sales_product_category_6     0\n",
       "sales_product_category_7     0\n",
       "sales_product_category_8     0\n",
       "sales_product_category_9     0\n",
       "sales_product_category_10    0\n",
       "sales_product_category_11    0\n",
       "sales_product_category_12    0\n",
       "sales_product_category_13    0\n",
       "sales_product_category_14    0\n",
       "sales_product_category_15    0\n",
       "sales_store_1                0\n",
       "sales_store_2                0\n",
       "sales_store_3                0\n",
       "sales_store_4                0\n",
       "sales_last_3_months          0\n",
       "sales_last_month             0\n",
       "sales_last_6_months          0\n",
       "sales_last_year              0\n",
       "margin                       0\n",
       "promos                       0\n",
       "days_on_file                 0\n",
       "days_between_purchases       0\n",
       "markdown                     0\n",
       "crossbuy                     0\n",
       "coupons                      0\n",
       "individual_items             0\n",
       "stores_visited               0\n",
       "phone_on_file                0\n",
       "online_shopper               0\n",
       "attempts                     0\n",
       "conversions                  0\n",
       "product_uniformity           0\n",
       "days_between_visits          0\n",
       "customer_type                0\n",
       "returns                      0\n",
       "conversion                   0\n",
       "dtype: int64"
      ]
     },
     "execution_count": 31,
     "metadata": {},
     "output_type": "execute_result"
    }
   ],
   "source": [
    "df.isnull().sum()  #So, there is no missing value"
   ]
  },
  {
   "cell_type": "markdown",
   "metadata": {},
   "source": [
    "## Data Preprocessing "
   ]
  },
  {
   "cell_type": "markdown",
   "metadata": {},
   "source": [
    "### 1. Feature Selection"
   ]
  },
  {
   "cell_type": "code",
   "execution_count": 56,
   "metadata": {},
   "outputs": [],
   "source": [
    "df = df.drop(columns=['phone_on_file'])  #Dropping the string type attribute"
   ]
  },
  {
   "cell_type": "code",
   "execution_count": 59,
   "metadata": {},
   "outputs": [
    {
     "name": "stderr",
     "output_type": "stream",
     "text": [
      "C:\\Users\\88013\\Anaconda3\\lib\\site-packages\\sklearn\\ensemble\\forest.py:245: FutureWarning: The default value of n_estimators will change from 10 in version 0.20 to 100 in 0.22.\n",
      "  \"10 in version 0.20 to 100 in 0.22.\", FutureWarning)\n"
     ]
    },
    {
     "name": "stdout",
     "output_type": "stream",
     "text": [
      "[0.05035042 0.02612789 0.02561019 0.0211245  0.02000173 0.01450436\n",
      " 0.02017611 0.0185891  0.01803628 0.01849655 0.01783444 0.01894274\n",
      " 0.01022702 0.00719042 0.01573144 0.01703907 0.01382286 0.01520043\n",
      " 0.00548663 0.02154241 0.02210337 0.01334067 0.02180752 0.01313653\n",
      " 0.02656426 0.01527941 0.0219452  0.03298127 0.03037271 0.02718397\n",
      " 0.02073355 0.07048934 0.01794652 0.03157207 0.02040055 0.01294843\n",
      " 0.02008977 0.02685551 0.02862089 0.11505032 0.02032804 0.0142155 ]\n"
     ]
    },
    {
     "data": {
      "image/png": "[encoded data removed]",
      "text/plain": [
       "<Figure size 432x288 with 1 Axes>"
      ]
     },
     "metadata": {
      "needs_background": "light"
     },
     "output_type": "display_data"
    }
   ],
   "source": [
    "X = df.iloc[:,0:42]  #independent columns\n",
    "y = df.iloc[:,-1]    #target column i.e price range\n",
    "from sklearn.ensemble import ExtraTreesClassifier\n",
    "import matplotlib.pyplot as plt\n",
    "model = ExtraTreesClassifier()\n",
    "model.fit(X,y)\n",
    "print(model.feature_importances_) #use inbuilt class feature_importances of tree based classifiers\n",
    "#plot graph of feature importances for better visualization\n",
    "feat_importances = pd.Series(model.feature_importances_, index=X.columns)\n",
    "feat_importances.nlargest(10).plot(kind='barh')\n",
    "plt.show()\n"
   ]
  },
  {
   "cell_type": "markdown",
   "metadata": {},
   "source": [
    "### 2. Train-Test Split"
   ]
  },
  {
   "cell_type": "code",
   "execution_count": 96,
   "metadata": {},
   "outputs": [],
   "source": [
    "response ='conversion'  #Target Variable\n",
    "predictors = ['days_between_visits', 'crossbuy', 'days_between_purchases', 'credit_card', 'visits', 'individual_items', 'product_uniformity', 'conversions', 'sales_last_6_months', 'promos']\n",
    "\n",
    "X_train = df[predictors].to_numpy() \n",
    "Y_train = df[response].to_numpy()"
   ]
  },
  {
   "cell_type": "code",
   "execution_count": 97,
   "metadata": {},
   "outputs": [],
   "source": [
    "X_train, X_test, Y_train, Y_test = train_test_split(df[predictors], df[response], random_state=0)"
   ]
  },
  {
   "cell_type": "markdown",
   "metadata": {},
   "source": [
    "## Apply Models"
   ]
  },
  {
   "cell_type": "markdown",
   "metadata": {},
   "source": [
    "### 1. Decision Tree"
   ]
  },
  {
   "cell_type": "code",
   "execution_count": 62,
   "metadata": {},
   "outputs": [],
   "source": [
    "clf = DecisionTreeClassifier(max_depth = 5, \n",
    "                             random_state = 0)"
   ]
  },
  {
   "cell_type": "code",
   "execution_count": 63,
   "metadata": {},
   "outputs": [
    {
     "data": {
      "text/plain": [
       "DecisionTreeClassifier(class_weight=None, criterion='gini', max_depth=5,\n",
       "                       max_features=None, max_leaf_nodes=None,\n",
       "                       min_impurity_decrease=0.0, min_impurity_split=None,\n",
       "                       min_samples_leaf=1, min_samples_split=2,\n",
       "                       min_weight_fraction_leaf=0.0, presort=False,\n",
       "                       random_state=0, splitter='best')"
      ]
     },
     "execution_count": 63,
     "metadata": {},
     "output_type": "execute_result"
    }
   ],
   "source": [
    "clf.fit(X_train, Y_train)"
   ]
  },
  {
   "cell_type": "code",
   "execution_count": 64,
   "metadata": {},
   "outputs": [
    {
     "data": {
      "text/plain": [
       "array([0, 0, 1, ..., 0, 0, 0], dtype=int64)"
      ]
     },
     "execution_count": 64,
     "metadata": {},
     "output_type": "execute_result"
    }
   ],
   "source": [
    "# Predict for multiple observations\n",
    "clf.predict(X_test)"
   ]
  },
  {
   "cell_type": "code",
   "execution_count": 65,
   "metadata": {},
   "outputs": [
    {
     "name": "stdout",
     "output_type": "stream",
     "text": [
      "0.7575169738118331\n"
     ]
    }
   ],
   "source": [
    "#Measure Accuracy\n",
    "score = clf.score(X_test, Y_test)\n",
    "print(score)"
   ]
  },
  {
   "cell_type": "code",
   "execution_count": 66,
   "metadata": {},
   "outputs": [],
   "source": [
    "X_test = test[predictors].to_numpy()\n",
    "y_prob = clf.predict(X_test)"
   ]
  },
  {
   "cell_type": "code",
   "execution_count": 67,
   "metadata": {},
   "outputs": [
    {
     "name": "stdout",
     "output_type": "stream",
     "text": [
      "                  feature  importance\n",
      "0     days_between_visits       0.848\n",
      "2  days_between_purchases       0.081\n",
      "6      product_uniformity       0.024\n",
      "4                  visits       0.021\n",
      "9                  promos       0.014\n",
      "5        individual_items       0.008\n",
      "1                crossbuy       0.004\n",
      "3             credit_card       0.000\n",
      "7             conversions       0.000\n",
      "8     sales_last_6_months       0.000\n"
     ]
    }
   ],
   "source": [
    "importances = pd.DataFrame({'feature':X_train.columns,'importance':np.round(clf.feature_importances_,3)})\n",
    "importances = importances.sort_values('importance',ascending=False)\n",
    "print(importances)"
   ]
  },
  {
   "cell_type": "code",
   "execution_count": 68,
   "metadata": {},
   "outputs": [],
   "source": [
    "submission1 = pd.DataFrame(y_prob, index=test.index, columns=[response])"
   ]
  },
  {
   "cell_type": "code",
   "execution_count": 70,
   "metadata": {},
   "outputs": [],
   "source": [
    "submission1.to_csv('decisionTree_final.csv')"
   ]
  },
  {
   "cell_type": "markdown",
   "metadata": {},
   "source": [
    "### 2. Support Vector Machine (SVM)"
   ]
  },
  {
   "cell_type": "code",
   "execution_count": 80,
   "metadata": {},
   "outputs": [
    {
     "data": {
      "text/plain": [
       "SVC(C=1.0, cache_size=200, class_weight=None, coef0=0.0,\n",
       "    decision_function_shape='ovr', degree=3, gamma='scale', kernel='rbf',\n",
       "    max_iter=-1, probability=False, random_state=None, shrinking=True,\n",
       "    tol=0.001, verbose=False)"
      ]
     },
     "execution_count": 80,
     "metadata": {},
     "output_type": "execute_result"
    }
   ],
   "source": [
    "clf = svm.SVC(gamma='scale')\n",
    "clf.fit(X_train, Y_train)  \n",
    "SVC(C=1.0, cache_size=200, class_weight=None, coef0=0.0,\n",
    "decision_function_shape='ovr', degree=3, gamma='scale', kernel='rbf',\n",
    "max_iter=-1, probability=False, random_state=None, shrinking=True,\n",
    "tol=0.001, verbose=False)"
   ]
  },
  {
   "cell_type": "code",
   "execution_count": 81,
   "metadata": {},
   "outputs": [
    {
     "data": {
      "text/plain": [
       "array([0, 1, 0, ..., 1, 1, 0], dtype=int64)"
      ]
     },
     "execution_count": 81,
     "metadata": {},
     "output_type": "execute_result"
    }
   ],
   "source": [
    "clf.predict(X_test)"
   ]
  },
  {
   "cell_type": "code",
   "execution_count": 82,
   "metadata": {},
   "outputs": [
    {
     "name": "stdout",
     "output_type": "stream",
     "text": [
      "0.7361784675072744\n"
     ]
    }
   ],
   "source": [
    "score1 = clf.score(X_test, Y_test)\n",
    "print(score1)"
   ]
  },
  {
   "cell_type": "code",
   "execution_count": 83,
   "metadata": {},
   "outputs": [],
   "source": [
    "submission2 = pd.DataFrame(y_prob, index=test.index, columns=[response])"
   ]
  },
  {
   "cell_type": "code",
   "execution_count": 84,
   "metadata": {},
   "outputs": [],
   "source": [
    "submission2.to_csv('SVM_final.csv')"
   ]
  },
  {
   "cell_type": "markdown",
   "metadata": {},
   "source": [
    "### 3. Random Forest Classifier"
   ]
  },
  {
   "cell_type": "code",
   "execution_count": 86,
   "metadata": {},
   "outputs": [
    {
     "data": {
      "text/plain": [
       "RandomForestClassifier(bootstrap=True, class_weight=None, criterion='gini',\n",
       "                       max_depth=2, max_features='auto', max_leaf_nodes=None,\n",
       "                       min_impurity_decrease=0.0, min_impurity_split=None,\n",
       "                       min_samples_leaf=1, min_samples_split=2,\n",
       "                       min_weight_fraction_leaf=0.0, n_estimators=100,\n",
       "                       n_jobs=None, oob_score=False, random_state=0, verbose=0,\n",
       "                       warm_start=False)"
      ]
     },
     "execution_count": 86,
     "metadata": {},
     "output_type": "execute_result"
    }
   ],
   "source": [
    "clf = RandomForestClassifier(n_estimators=100, max_depth=2,\n",
    "                              random_state=0)\n",
    "clf.fit(X_train, Y_train)  \n",
    "RandomForestClassifier(bootstrap=True, class_weight=None, criterion='gini',\n",
    "            max_depth=2, max_features='auto', max_leaf_nodes=None,\n",
    "            min_impurity_decrease=0.0, min_impurity_split=None,\n",
    "            min_samples_leaf=1, min_samples_split=2,\n",
    "            min_weight_fraction_leaf=0.0, n_estimators=100, n_jobs=None,\n",
    "            oob_score=False, random_state=0, verbose=0, warm_start=False)\n",
    "            "
   ]
  },
  {
   "cell_type": "code",
   "execution_count": 87,
   "metadata": {},
   "outputs": [],
   "source": [
    "y_prob = clf.predict(X_test)"
   ]
  },
  {
   "cell_type": "code",
   "execution_count": 88,
   "metadata": {},
   "outputs": [
    {
     "name": "stdout",
     "output_type": "stream",
     "text": [
      "0.7390882638215325\n"
     ]
    }
   ],
   "source": [
    "score2 = clf.score(X_test, Y_test)\n",
    "print(score2)"
   ]
  },
  {
   "cell_type": "code",
   "execution_count": 89,
   "metadata": {},
   "outputs": [],
   "source": [
    "X_test = test[predictors].to_numpy()\n",
    "y_prob = clf.predict(X_test)"
   ]
  },
  {
   "cell_type": "code",
   "execution_count": 90,
   "metadata": {},
   "outputs": [],
   "source": [
    "submission3 = pd.DataFrame(y_prob, index=test.index, columns=[response])"
   ]
  },
  {
   "cell_type": "code",
   "execution_count": 92,
   "metadata": {},
   "outputs": [],
   "source": [
    "submission3.to_csv('RandomForest_final.csv')"
   ]
  },
  {
   "cell_type": "markdown",
   "metadata": {},
   "source": [
    "### 4. Adaboost Classifier"
   ]
  },
  {
   "cell_type": "code",
   "execution_count": 98,
   "metadata": {},
   "outputs": [],
   "source": [
    "clf = AdaBoostClassifier(n_estimators=100, random_state=0)"
   ]
  },
  {
   "cell_type": "code",
   "execution_count": 99,
   "metadata": {},
   "outputs": [
    {
     "data": {
      "text/plain": [
       "AdaBoostClassifier(algorithm='SAMME.R', base_estimator=None, learning_rate=1.0,\n",
       "                   n_estimators=100, random_state=0)"
      ]
     },
     "execution_count": 99,
     "metadata": {},
     "output_type": "execute_result"
    }
   ],
   "source": [
    "clf.fit(X_train, Y_train)  \n",
    "  "
   ]
  },
  {
   "cell_type": "code",
   "execution_count": 100,
   "metadata": {},
   "outputs": [
    {
     "data": {
      "text/plain": [
       "0.7691561590688651"
      ]
     },
     "execution_count": 100,
     "metadata": {},
     "output_type": "execute_result"
    }
   ],
   "source": [
    "AdaBoostClassifier(algorithm='SAMME.R', base_estimator=None,\n",
    "learning_rate=1.0, n_estimators=100, random_state=0)\n",
    "clf.feature_importances_  \n",
    "y_prob = clf.predict(X_test)\n",
    "clf.score(X_test, Y_test)"
   ]
  },
  {
   "cell_type": "code",
   "execution_count": 101,
   "metadata": {},
   "outputs": [],
   "source": [
    "X_test = test[predictors].to_numpy()\n",
    "y_prob = clf.predict(X_test)"
   ]
  },
  {
   "cell_type": "code",
   "execution_count": 102,
   "metadata": {},
   "outputs": [],
   "source": [
    "submission4 = pd.DataFrame(y_prob, index=test.index, columns=[response])"
   ]
  },
  {
   "cell_type": "code",
   "execution_count": 103,
   "metadata": {},
   "outputs": [],
   "source": [
    "submission4.to_csv('ADABOOST_final.csv')"
   ]
  }
 ],
 "metadata": {
  "kernelspec": {
   "display_name": "Python 3",
   "language": "python",
   "name": "python3"
  },
  "language_info": {
   "codemirror_mode": {
    "name": "ipython",
    "version": 3
   },
   "file_extension": ".py",
   "mimetype": "text/x-python",
   "name": "python",
   "nbconvert_exporter": "python",
   "pygments_lexer": "ipython3",
   "version": "3.7.3"
  }
 },
 "nbformat": 4,
 "nbformat_minor": 2
}
